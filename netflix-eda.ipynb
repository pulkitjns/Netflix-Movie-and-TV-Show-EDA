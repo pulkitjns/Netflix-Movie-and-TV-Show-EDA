{
 "cells": [
  {
   "cell_type": "markdown",
   "metadata": {
    "papermill": {
     "duration": 0.011954,
     "end_time": "2021-02-05T01:17:52.191733",
     "exception": false,
     "start_time": "2021-02-05T01:17:52.179779",
     "status": "completed"
    },
    "tags": []
   },
   "source": [
    "# NetFlix"
   ]
  },
  {
   "cell_type": "markdown",
   "metadata": {
    "papermill": {
     "duration": 0.010292,
     "end_time": "2021-02-05T01:17:52.212800",
     "exception": false,
     "start_time": "2021-02-05T01:17:52.202508",
     "status": "completed"
    },
    "tags": []
   },
   "source": [
    "**NetFlix is a very Popular Online streaming TV and movies shows which can be watch in TV,mobile and Tablet.Members can watch as they want,anytime or anywhere.Memeber can even download the shows and watch it offline.**"
   ]
  },
  {
   "cell_type": "code",
   "execution_count": 1,
   "metadata": {
    "_cell_guid": "b1076dfc-b9ad-4769-8c92-a6c4dae69d19",
    "_uuid": "8f2839f25d086af736a60e9eeb907d3b93b6e0e5",
    "execution": {
     "iopub.execute_input": "2021-02-05T01:17:52.238214Z",
     "iopub.status.busy": "2021-02-05T01:17:52.237271Z",
     "iopub.status.idle": "2021-02-05T01:17:52.250141Z",
     "shell.execute_reply": "2021-02-05T01:17:52.249125Z"
    },
    "papermill": {
     "duration": 0.026913,
     "end_time": "2021-02-05T01:17:52.250403",
     "exception": false,
     "start_time": "2021-02-05T01:17:52.223490",
     "status": "completed"
    },
    "tags": []
   },
   "outputs": [
    {
     "name": "stdout",
     "output_type": "stream",
     "text": [
      "/kaggle/input/netflix-shows/netflix_titles.csv\n"
     ]
    }
   ],
   "source": [
    "# This Python 3 environment comes with many helpful analytics libraries installed\n",
    "# It is defined by the kaggle/python Docker image: https://github.com/kaggle/docker-python\n",
    "# For example, here's several helpful packages to load\n",
    "\n",
    "import numpy as np # linear algebra\n",
    "import pandas as pd # data processing, CSV file I/O (e.g. pd.read_csv)\n",
    "\n",
    "# Input data files are available in the read-only \"../input/\" directory\n",
    "# For example, running this (by clicking run or pressing Shift+Enter) will list all files under the input directory\n",
    "\n",
    "import os\n",
    "for dirname, _, filenames in os.walk('/kaggle/input'):\n",
    "    for filename in filenames:\n",
    "        print(os.path.join(dirname, filename))\n",
    "\n",
    "# You can write up to 20GB to the current directory (/kaggle/working/) that gets preserved as output when you create a version using \"Save & Run All\" \n",
    "# You can also write temporary files to /kaggle/temp/, but they won't be saved outside of the current session"
   ]
  },
  {
   "cell_type": "code",
   "execution_count": 2,
   "metadata": {
    "execution": {
     "iopub.execute_input": "2021-02-05T01:17:52.276769Z",
     "iopub.status.busy": "2021-02-05T01:17:52.276132Z",
     "iopub.status.idle": "2021-02-05T01:17:52.420958Z",
     "shell.execute_reply": "2021-02-05T01:17:52.420042Z"
    },
    "papermill": {
     "duration": 0.158813,
     "end_time": "2021-02-05T01:17:52.421121",
     "exception": false,
     "start_time": "2021-02-05T01:17:52.262308",
     "status": "completed"
    },
    "tags": []
   },
   "outputs": [],
   "source": [
    "df = pd.read_csv('/kaggle/input/netflix-shows/netflix_titles.csv')"
   ]
  },
  {
   "cell_type": "code",
   "execution_count": 3,
   "metadata": {
    "execution": {
     "iopub.execute_input": "2021-02-05T01:17:52.458836Z",
     "iopub.status.busy": "2021-02-05T01:17:52.458212Z",
     "iopub.status.idle": "2021-02-05T01:17:52.483966Z",
     "shell.execute_reply": "2021-02-05T01:17:52.484431Z"
    },
    "papermill": {
     "duration": 0.052094,
     "end_time": "2021-02-05T01:17:52.484609",
     "exception": false,
     "start_time": "2021-02-05T01:17:52.432515",
     "status": "completed"
    },
    "tags": []
   },
   "outputs": [
    {
     "data": {
      "text/html": [
       "<div>\n",
       "<style scoped>\n",
       "    .dataframe tbody tr th:only-of-type {\n",
       "        vertical-align: middle;\n",
       "    }\n",
       "\n",
       "    .dataframe tbody tr th {\n",
       "        vertical-align: top;\n",
       "    }\n",
       "\n",
       "    .dataframe thead th {\n",
       "        text-align: right;\n",
       "    }\n",
       "</style>\n",
       "<table border=\"1\" class=\"dataframe\">\n",
       "  <thead>\n",
       "    <tr style=\"text-align: right;\">\n",
       "      <th></th>\n",
       "      <th>show_id</th>\n",
       "      <th>type</th>\n",
       "      <th>title</th>\n",
       "      <th>director</th>\n",
       "      <th>cast</th>\n",
       "      <th>country</th>\n",
       "      <th>date_added</th>\n",
       "      <th>release_year</th>\n",
       "      <th>rating</th>\n",
       "      <th>duration</th>\n",
       "      <th>listed_in</th>\n",
       "      <th>description</th>\n",
       "    </tr>\n",
       "  </thead>\n",
       "  <tbody>\n",
       "    <tr>\n",
       "      <th>0</th>\n",
       "      <td>s1</td>\n",
       "      <td>TV Show</td>\n",
       "      <td>3%</td>\n",
       "      <td>NaN</td>\n",
       "      <td>João Miguel, Bianca Comparato, Michel Gomes, R...</td>\n",
       "      <td>Brazil</td>\n",
       "      <td>August 14, 2020</td>\n",
       "      <td>2020</td>\n",
       "      <td>TV-MA</td>\n",
       "      <td>4 Seasons</td>\n",
       "      <td>International TV Shows, TV Dramas, TV Sci-Fi &amp;...</td>\n",
       "      <td>In a future where the elite inhabit an island ...</td>\n",
       "    </tr>\n",
       "    <tr>\n",
       "      <th>1</th>\n",
       "      <td>s2</td>\n",
       "      <td>Movie</td>\n",
       "      <td>7:19</td>\n",
       "      <td>Jorge Michel Grau</td>\n",
       "      <td>Demián Bichir, Héctor Bonilla, Oscar Serrano, ...</td>\n",
       "      <td>Mexico</td>\n",
       "      <td>December 23, 2016</td>\n",
       "      <td>2016</td>\n",
       "      <td>TV-MA</td>\n",
       "      <td>93 min</td>\n",
       "      <td>Dramas, International Movies</td>\n",
       "      <td>After a devastating earthquake hits Mexico Cit...</td>\n",
       "    </tr>\n",
       "    <tr>\n",
       "      <th>2</th>\n",
       "      <td>s3</td>\n",
       "      <td>Movie</td>\n",
       "      <td>23:59</td>\n",
       "      <td>Gilbert Chan</td>\n",
       "      <td>Tedd Chan, Stella Chung, Henley Hii, Lawrence ...</td>\n",
       "      <td>Singapore</td>\n",
       "      <td>December 20, 2018</td>\n",
       "      <td>2011</td>\n",
       "      <td>R</td>\n",
       "      <td>78 min</td>\n",
       "      <td>Horror Movies, International Movies</td>\n",
       "      <td>When an army recruit is found dead, his fellow...</td>\n",
       "    </tr>\n",
       "    <tr>\n",
       "      <th>3</th>\n",
       "      <td>s4</td>\n",
       "      <td>Movie</td>\n",
       "      <td>9</td>\n",
       "      <td>Shane Acker</td>\n",
       "      <td>Elijah Wood, John C. Reilly, Jennifer Connelly...</td>\n",
       "      <td>United States</td>\n",
       "      <td>November 16, 2017</td>\n",
       "      <td>2009</td>\n",
       "      <td>PG-13</td>\n",
       "      <td>80 min</td>\n",
       "      <td>Action &amp; Adventure, Independent Movies, Sci-Fi...</td>\n",
       "      <td>In a postapocalyptic world, rag-doll robots hi...</td>\n",
       "    </tr>\n",
       "    <tr>\n",
       "      <th>4</th>\n",
       "      <td>s5</td>\n",
       "      <td>Movie</td>\n",
       "      <td>21</td>\n",
       "      <td>Robert Luketic</td>\n",
       "      <td>Jim Sturgess, Kevin Spacey, Kate Bosworth, Aar...</td>\n",
       "      <td>United States</td>\n",
       "      <td>January 1, 2020</td>\n",
       "      <td>2008</td>\n",
       "      <td>PG-13</td>\n",
       "      <td>123 min</td>\n",
       "      <td>Dramas</td>\n",
       "      <td>A brilliant group of students become card-coun...</td>\n",
       "    </tr>\n",
       "  </tbody>\n",
       "</table>\n",
       "</div>"
      ],
      "text/plain": [
       "  show_id     type  title           director  \\\n",
       "0      s1  TV Show     3%                NaN   \n",
       "1      s2    Movie   7:19  Jorge Michel Grau   \n",
       "2      s3    Movie  23:59       Gilbert Chan   \n",
       "3      s4    Movie      9        Shane Acker   \n",
       "4      s5    Movie     21     Robert Luketic   \n",
       "\n",
       "                                                cast        country  \\\n",
       "0  João Miguel, Bianca Comparato, Michel Gomes, R...         Brazil   \n",
       "1  Demián Bichir, Héctor Bonilla, Oscar Serrano, ...         Mexico   \n",
       "2  Tedd Chan, Stella Chung, Henley Hii, Lawrence ...      Singapore   \n",
       "3  Elijah Wood, John C. Reilly, Jennifer Connelly...  United States   \n",
       "4  Jim Sturgess, Kevin Spacey, Kate Bosworth, Aar...  United States   \n",
       "\n",
       "          date_added  release_year rating   duration  \\\n",
       "0    August 14, 2020          2020  TV-MA  4 Seasons   \n",
       "1  December 23, 2016          2016  TV-MA     93 min   \n",
       "2  December 20, 2018          2011      R     78 min   \n",
       "3  November 16, 2017          2009  PG-13     80 min   \n",
       "4    January 1, 2020          2008  PG-13    123 min   \n",
       "\n",
       "                                           listed_in  \\\n",
       "0  International TV Shows, TV Dramas, TV Sci-Fi &...   \n",
       "1                       Dramas, International Movies   \n",
       "2                Horror Movies, International Movies   \n",
       "3  Action & Adventure, Independent Movies, Sci-Fi...   \n",
       "4                                             Dramas   \n",
       "\n",
       "                                         description  \n",
       "0  In a future where the elite inhabit an island ...  \n",
       "1  After a devastating earthquake hits Mexico Cit...  \n",
       "2  When an army recruit is found dead, his fellow...  \n",
       "3  In a postapocalyptic world, rag-doll robots hi...  \n",
       "4  A brilliant group of students become card-coun...  "
      ]
     },
     "execution_count": 3,
     "metadata": {},
     "output_type": "execute_result"
    }
   ],
   "source": [
    "df.head()"
   ]
  },
  {
   "cell_type": "code",
   "execution_count": 4,
   "metadata": {
    "execution": {
     "iopub.execute_input": "2021-02-05T01:17:52.511896Z",
     "iopub.status.busy": "2021-02-05T01:17:52.511113Z",
     "iopub.status.idle": "2021-02-05T01:17:52.522959Z",
     "shell.execute_reply": "2021-02-05T01:17:52.523413Z"
    },
    "papermill": {
     "duration": 0.02707,
     "end_time": "2021-02-05T01:17:52.523604",
     "exception": false,
     "start_time": "2021-02-05T01:17:52.496534",
     "status": "completed"
    },
    "tags": []
   },
   "outputs": [
    {
     "data": {
      "text/plain": [
       "show_id            0\n",
       "type               0\n",
       "title              0\n",
       "director        2389\n",
       "cast             718\n",
       "country          507\n",
       "date_added        10\n",
       "release_year       0\n",
       "rating             7\n",
       "duration           0\n",
       "listed_in          0\n",
       "description        0\n",
       "dtype: int64"
      ]
     },
     "execution_count": 4,
     "metadata": {},
     "output_type": "execute_result"
    }
   ],
   "source": [
    "#checking for null value if available\n",
    "df.isnull().sum()"
   ]
  },
  {
   "cell_type": "code",
   "execution_count": 5,
   "metadata": {
    "execution": {
     "iopub.execute_input": "2021-02-05T01:17:52.552068Z",
     "iopub.status.busy": "2021-02-05T01:17:52.551438Z",
     "iopub.status.idle": "2021-02-05T01:17:54.065820Z",
     "shell.execute_reply": "2021-02-05T01:17:54.065169Z"
    },
    "papermill": {
     "duration": 1.529966,
     "end_time": "2021-02-05T01:17:54.065963",
     "exception": false,
     "start_time": "2021-02-05T01:17:52.535997",
     "status": "completed"
    },
    "tags": []
   },
   "outputs": [
    {
     "data": {
      "text/plain": [
       "<AxesSubplot:>"
      ]
     },
     "execution_count": 5,
     "metadata": {},
     "output_type": "execute_result"
    },
    {
     "data": {
      "image/png": "[encoded data removed]",
      "text/plain": [
       "<Figure size 432x288 with 2 Axes>"
      ]
     },
     "metadata": {
      "needs_background": "light"
     },
     "output_type": "display_data"
    }
   ],
   "source": [
    "import matplotlib.pyplot as plt\n",
    "import seaborn as sns\n",
    "import warnings\n",
    "warnings.simplefilter('ignore')\n",
    "sns.heatmap(df.isnull())"
   ]
  },
  {
   "cell_type": "code",
   "execution_count": 6,
   "metadata": {
    "execution": {
     "iopub.execute_input": "2021-02-05T01:17:54.103745Z",
     "iopub.status.busy": "2021-02-05T01:17:54.102613Z",
     "iopub.status.idle": "2021-02-05T01:17:54.135597Z",
     "shell.execute_reply": "2021-02-05T01:17:54.136062Z"
    },
    "papermill": {
     "duration": 0.056595,
     "end_time": "2021-02-05T01:17:54.136230",
     "exception": false,
     "start_time": "2021-02-05T01:17:54.079635",
     "status": "completed"
    },
    "tags": []
   },
   "outputs": [
    {
     "data": {
      "text/plain": [
       "show_id          0.000000\n",
       "type             0.000000\n",
       "title            0.000000\n",
       "director        30.679337\n",
       "cast             9.220496\n",
       "country          6.510851\n",
       "date_added       0.128419\n",
       "release_year     0.000000\n",
       "rating           0.089893\n",
       "duration         0.000000\n",
       "listed_in        0.000000\n",
       "description      0.000000\n",
       "dtype: float64"
      ]
     },
     "execution_count": 6,
     "metadata": {},
     "output_type": "execute_result"
    }
   ],
   "source": [
    "#checking for the percentage of null values\n",
    "df.isnull().sum()/len(df)*100"
   ]
  },
  {
   "cell_type": "code",
   "execution_count": 7,
   "metadata": {
    "execution": {
     "iopub.execute_input": "2021-02-05T01:17:54.169199Z",
     "iopub.status.busy": "2021-02-05T01:17:54.168636Z",
     "iopub.status.idle": "2021-02-05T01:17:54.177129Z",
     "shell.execute_reply": "2021-02-05T01:17:54.177651Z"
    },
    "papermill": {
     "duration": 0.027319,
     "end_time": "2021-02-05T01:17:54.177840",
     "exception": false,
     "start_time": "2021-02-05T01:17:54.150521",
     "status": "completed"
    },
    "tags": []
   },
   "outputs": [],
   "source": [
    "df.dropna(subset=['date_added', 'rating'],inplace=True)"
   ]
  },
  {
   "cell_type": "code",
   "execution_count": 8,
   "metadata": {
    "execution": {
     "iopub.execute_input": "2021-02-05T01:17:54.209544Z",
     "iopub.status.busy": "2021-02-05T01:17:54.208802Z",
     "iopub.status.idle": "2021-02-05T01:17:54.214964Z",
     "shell.execute_reply": "2021-02-05T01:17:54.214460Z"
    },
    "papermill": {
     "duration": 0.023237,
     "end_time": "2021-02-05T01:17:54.215115",
     "exception": false,
     "start_time": "2021-02-05T01:17:54.191878",
     "status": "completed"
    },
    "tags": []
   },
   "outputs": [
    {
     "data": {
      "text/plain": [
       "(7770, 12)"
      ]
     },
     "execution_count": 8,
     "metadata": {},
     "output_type": "execute_result"
    }
   ],
   "source": [
    "df.shape"
   ]
  },
  {
   "cell_type": "code",
   "execution_count": 9,
   "metadata": {
    "execution": {
     "iopub.execute_input": "2021-02-05T01:17:54.246981Z",
     "iopub.status.busy": "2021-02-05T01:17:54.246400Z",
     "iopub.status.idle": "2021-02-05T01:17:54.257992Z",
     "shell.execute_reply": "2021-02-05T01:17:54.257398Z"
    },
    "papermill": {
     "duration": 0.028617,
     "end_time": "2021-02-05T01:17:54.258140",
     "exception": false,
     "start_time": "2021-02-05T01:17:54.229523",
     "status": "completed"
    },
    "tags": []
   },
   "outputs": [
    {
     "name": "stdout",
     "output_type": "stream",
     "text": [
      "Numerical data:\n",
      " Index(['release_year'], dtype='object')\n",
      "Categorical data:\n",
      " Index(['show_id', 'type', 'title', 'director', 'cast', 'country', 'date_added',\n",
      "       'rating', 'duration', 'listed_in', 'description'],\n",
      "      dtype='object')\n"
     ]
    }
   ],
   "source": [
    "df_cat=df.select_dtypes(include='object')\n",
    "df_num=df.select_dtypes(include=np.number)\n",
    "print('Numerical data:\\n',df_num.columns)\n",
    "print('Categorical data:\\n',df_cat.columns)"
   ]
  },
  {
   "cell_type": "code",
   "execution_count": 10,
   "metadata": {
    "execution": {
     "iopub.execute_input": "2021-02-05T01:17:54.295981Z",
     "iopub.status.busy": "2021-02-05T01:17:54.295240Z",
     "iopub.status.idle": "2021-02-05T01:17:54.306485Z",
     "shell.execute_reply": "2021-02-05T01:17:54.306933Z"
    },
    "papermill": {
     "duration": 0.034039,
     "end_time": "2021-02-05T01:17:54.307112",
     "exception": false,
     "start_time": "2021-02-05T01:17:54.273073",
     "status": "completed"
    },
    "tags": []
   },
   "outputs": [
    {
     "data": {
      "text/html": [
       "<div>\n",
       "<style scoped>\n",
       "    .dataframe tbody tr th:only-of-type {\n",
       "        vertical-align: middle;\n",
       "    }\n",
       "\n",
       "    .dataframe tbody tr th {\n",
       "        vertical-align: top;\n",
       "    }\n",
       "\n",
       "    .dataframe thead th {\n",
       "        text-align: right;\n",
       "    }\n",
       "</style>\n",
       "<table border=\"1\" class=\"dataframe\">\n",
       "  <thead>\n",
       "    <tr style=\"text-align: right;\">\n",
       "      <th></th>\n",
       "      <th>release_year</th>\n",
       "    </tr>\n",
       "  </thead>\n",
       "  <tbody>\n",
       "    <tr>\n",
       "      <th>count</th>\n",
       "      <td>7770.000000</td>\n",
       "    </tr>\n",
       "    <tr>\n",
       "      <th>mean</th>\n",
       "      <td>2013.935393</td>\n",
       "    </tr>\n",
       "    <tr>\n",
       "      <th>std</th>\n",
       "      <td>8.764357</td>\n",
       "    </tr>\n",
       "    <tr>\n",
       "      <th>min</th>\n",
       "      <td>1925.000000</td>\n",
       "    </tr>\n",
       "    <tr>\n",
       "      <th>25%</th>\n",
       "      <td>2013.000000</td>\n",
       "    </tr>\n",
       "    <tr>\n",
       "      <th>50%</th>\n",
       "      <td>2017.000000</td>\n",
       "    </tr>\n",
       "    <tr>\n",
       "      <th>75%</th>\n",
       "      <td>2018.000000</td>\n",
       "    </tr>\n",
       "    <tr>\n",
       "      <th>max</th>\n",
       "      <td>2021.000000</td>\n",
       "    </tr>\n",
       "  </tbody>\n",
       "</table>\n",
       "</div>"
      ],
      "text/plain": [
       "       release_year\n",
       "count   7770.000000\n",
       "mean    2013.935393\n",
       "std        8.764357\n",
       "min     1925.000000\n",
       "25%     2013.000000\n",
       "50%     2017.000000\n",
       "75%     2018.000000\n",
       "max     2021.000000"
      ]
     },
     "execution_count": 10,
     "metadata": {},
     "output_type": "execute_result"
    }
   ],
   "source": [
    "df.describe()"
   ]
  },
  {
   "cell_type": "code",
   "execution_count": 11,
   "metadata": {
    "execution": {
     "iopub.execute_input": "2021-02-05T01:17:54.341179Z",
     "iopub.status.busy": "2021-02-05T01:17:54.340595Z",
     "iopub.status.idle": "2021-02-05T01:17:54.343791Z",
     "shell.execute_reply": "2021-02-05T01:17:54.344205Z"
    },
    "papermill": {
     "duration": 0.022246,
     "end_time": "2021-02-05T01:17:54.344404",
     "exception": false,
     "start_time": "2021-02-05T01:17:54.322158",
     "status": "completed"
    },
    "tags": []
   },
   "outputs": [],
   "source": [
    "#Let do Comparison for TV and Movies"
   ]
  },
  {
   "cell_type": "code",
   "execution_count": 12,
   "metadata": {
    "execution": {
     "iopub.execute_input": "2021-02-05T01:17:54.378924Z",
     "iopub.status.busy": "2021-02-05T01:17:54.378293Z",
     "iopub.status.idle": "2021-02-05T01:17:54.518171Z",
     "shell.execute_reply": "2021-02-05T01:17:54.517563Z"
    },
    "papermill": {
     "duration": 0.158527,
     "end_time": "2021-02-05T01:17:54.518329",
     "exception": false,
     "start_time": "2021-02-05T01:17:54.359802",
     "status": "completed"
    },
    "tags": []
   },
   "outputs": [
    {
     "data": {
      "text/plain": [
       "Text(0.5, 1.0, 'Comparison between TV shows and Movie')"
      ]
     },
     "execution_count": 12,
     "metadata": {},
     "output_type": "execute_result"
    },
    {
     "data": {
      "image/png": "[encoded data removed]",
      "text/plain": [
       "<Figure size 1080x576 with 1 Axes>"
      ]
     },
     "metadata": {
      "needs_background": "light"
     },
     "output_type": "display_data"
    }
   ],
   "source": [
    "plt.figure(figsize=(15,8))\n",
    "sns.countplot(x=\"type\", data=df)\n",
    "plt.title('Comparison between TV shows and Movie')"
   ]
  },
  {
   "cell_type": "code",
   "execution_count": 13,
   "metadata": {
    "execution": {
     "iopub.execute_input": "2021-02-05T01:17:54.556611Z",
     "iopub.status.busy": "2021-02-05T01:17:54.555982Z",
     "iopub.status.idle": "2021-02-05T01:17:54.563005Z",
     "shell.execute_reply": "2021-02-05T01:17:54.563502Z"
    },
    "papermill": {
     "duration": 0.029204,
     "end_time": "2021-02-05T01:17:54.563692",
     "exception": false,
     "start_time": "2021-02-05T01:17:54.534488",
     "status": "completed"
    },
    "tags": []
   },
   "outputs": [],
   "source": [
    "movies = df[df.type == 'Movie']\n",
    "shows = df[df.type == 'TV Show']"
   ]
  },
  {
   "cell_type": "code",
   "execution_count": 14,
   "metadata": {
    "execution": {
     "iopub.execute_input": "2021-02-05T01:17:54.601860Z",
     "iopub.status.busy": "2021-02-05T01:17:54.601198Z",
     "iopub.status.idle": "2021-02-05T01:17:54.858753Z",
     "shell.execute_reply": "2021-02-05T01:17:54.858232Z"
    },
    "papermill": {
     "duration": 0.279035,
     "end_time": "2021-02-05T01:17:54.858892",
     "exception": false,
     "start_time": "2021-02-05T01:17:54.579857",
     "status": "completed"
    },
    "tags": []
   },
   "outputs": [
    {
     "data": {
      "image/png": "[encoded data removed]",
      "text/plain": [
       "<Figure size 432x288 with 1 Axes>"
      ]
     },
     "metadata": {
      "needs_background": "light"
     },
     "output_type": "display_data"
    }
   ],
   "source": [
    "recent_5yrs = movies[movies.release_year >= 2011]\n",
    "sns.countplot(x='release_year',data=recent_5yrs) \n",
    "plt.title('Total Releases of Movies for Last 10 Years ',size='15')  \n",
    "plt.show()"
   ]
  },
  {
   "cell_type": "code",
   "execution_count": 15,
   "metadata": {
    "execution": {
     "iopub.execute_input": "2021-02-05T01:17:54.898917Z",
     "iopub.status.busy": "2021-02-05T01:17:54.898097Z",
     "iopub.status.idle": "2021-02-05T01:17:55.066953Z",
     "shell.execute_reply": "2021-02-05T01:17:55.066178Z"
    },
    "papermill": {
     "duration": 0.191063,
     "end_time": "2021-02-05T01:17:55.067110",
     "exception": false,
     "start_time": "2021-02-05T01:17:54.876047",
     "status": "completed"
    },
    "tags": []
   },
   "outputs": [
    {
     "data": {
      "text/plain": [
       "Text(0.5, 1.0, 'Total Releases of Shows for Last 10 Years ')"
      ]
     },
     "execution_count": 15,
     "metadata": {},
     "output_type": "execute_result"
    },
    {
     "data": {
      "image/png": "[encoded data removed]",
      "text/plain": [
       "<Figure size 432x288 with 1 Axes>"
      ]
     },
     "metadata": {
      "needs_background": "light"
     },
     "output_type": "display_data"
    }
   ],
   "source": [
    "recent_5yrs = shows[shows.release_year >= 2011]\n",
    "sns.countplot(x='release_year',data=recent_5yrs)\n",
    "plt.title('Total Releases of Shows for Last 10 Years ',size='15')  "
   ]
  },
  {
   "cell_type": "code",
   "execution_count": 16,
   "metadata": {
    "execution": {
     "iopub.execute_input": "2021-02-05T01:17:55.110079Z",
     "iopub.status.busy": "2021-02-05T01:17:55.109492Z",
     "iopub.status.idle": "2021-02-05T01:17:55.364747Z",
     "shell.execute_reply": "2021-02-05T01:17:55.365242Z"
    },
    "papermill": {
     "duration": 0.280296,
     "end_time": "2021-02-05T01:17:55.365457",
     "exception": false,
     "start_time": "2021-02-05T01:17:55.085161",
     "status": "completed"
    },
    "tags": []
   },
   "outputs": [
    {
     "data": {
      "text/plain": [
       "<AxesSubplot:ylabel='rating'>"
      ]
     },
     "execution_count": 16,
     "metadata": {},
     "output_type": "execute_result"
    },
    {
     "data": {
      "image/png": "[encoded data removed]",
      "text/plain": [
       "<Figure size 432x288 with 1 Axes>"
      ]
     },
     "metadata": {
      "needs_background": "light"
     },
     "output_type": "display_data"
    }
   ],
   "source": [
    "#Movie Rating\n",
    "movies.groupby('rating')['show_id'].count().plot(kind='barh')"
   ]
  },
  {
   "cell_type": "code",
   "execution_count": 17,
   "metadata": {
    "execution": {
     "iopub.execute_input": "2021-02-05T01:17:55.406686Z",
     "iopub.status.busy": "2021-02-05T01:17:55.405767Z",
     "iopub.status.idle": "2021-02-05T01:17:55.553503Z",
     "shell.execute_reply": "2021-02-05T01:17:55.552983Z"
    },
    "papermill": {
     "duration": 0.169342,
     "end_time": "2021-02-05T01:17:55.553650",
     "exception": false,
     "start_time": "2021-02-05T01:17:55.384308",
     "status": "completed"
    },
    "tags": []
   },
   "outputs": [
    {
     "data": {
      "text/plain": [
       "<AxesSubplot:ylabel='rating'>"
      ]
     },
     "execution_count": 17,
     "metadata": {},
     "output_type": "execute_result"
    },
    {
     "data": {
      "image/png": "[encoded data removed]",
      "text/plain": [
       "<Figure size 432x288 with 1 Axes>"
      ]
     },
     "metadata": {
      "needs_background": "light"
     },
     "output_type": "display_data"
    }
   ],
   "source": [
    "#TV SHOWS Rating\n",
    "shows.groupby('rating')['show_id'].count().plot(kind='barh')"
   ]
  },
  {
   "cell_type": "code",
   "execution_count": 18,
   "metadata": {
    "execution": {
     "iopub.execute_input": "2021-02-05T01:17:55.597399Z",
     "iopub.status.busy": "2021-02-05T01:17:55.596667Z",
     "iopub.status.idle": "2021-02-05T01:17:55.599475Z",
     "shell.execute_reply": "2021-02-05T01:17:55.599950Z"
    },
    "papermill": {
     "duration": 0.02663,
     "end_time": "2021-02-05T01:17:55.600131",
     "exception": false,
     "start_time": "2021-02-05T01:17:55.573501",
     "status": "completed"
    },
    "tags": []
   },
   "outputs": [],
   "source": [
    "#Rating Shows in India"
   ]
  },
  {
   "cell_type": "code",
   "execution_count": 19,
   "metadata": {
    "execution": {
     "iopub.execute_input": "2021-02-05T01:17:55.645590Z",
     "iopub.status.busy": "2021-02-05T01:17:55.644614Z",
     "iopub.status.idle": "2021-02-05T01:17:55.811690Z",
     "shell.execute_reply": "2021-02-05T01:17:55.810932Z"
    },
    "papermill": {
     "duration": 0.192194,
     "end_time": "2021-02-05T01:17:55.811846",
     "exception": false,
     "start_time": "2021-02-05T01:17:55.619652",
     "status": "completed"
    },
    "tags": []
   },
   "outputs": [
    {
     "data": {
      "text/plain": [
       "<AxesSubplot:xlabel='rating'>"
      ]
     },
     "execution_count": 19,
     "metadata": {},
     "output_type": "execute_result"
    },
    {
     "data": {
      "image/png": "[encoded data removed]",
      "text/plain": [
       "<Figure size 432x288 with 1 Axes>"
      ]
     },
     "metadata": {
      "needs_background": "light"
     },
     "output_type": "display_data"
    }
   ],
   "source": [
    "df[df.country=='India'].groupby('rating')['show_id'].count().plot(kind='bar')"
   ]
  },
  {
   "cell_type": "code",
   "execution_count": 20,
   "metadata": {
    "execution": {
     "iopub.execute_input": "2021-02-05T01:17:55.857920Z",
     "iopub.status.busy": "2021-02-05T01:17:55.857274Z",
     "iopub.status.idle": "2021-02-05T01:17:55.860526Z",
     "shell.execute_reply": "2021-02-05T01:17:55.860064Z"
    },
    "papermill": {
     "duration": 0.028183,
     "end_time": "2021-02-05T01:17:55.860665",
     "exception": false,
     "start_time": "2021-02-05T01:17:55.832482",
     "status": "completed"
    },
    "tags": []
   },
   "outputs": [],
   "source": [
    "# we can observe that rating for TV-14 in very high in country India"
   ]
  },
  {
   "cell_type": "code",
   "execution_count": 21,
   "metadata": {
    "execution": {
     "iopub.execute_input": "2021-02-05T01:17:55.910725Z",
     "iopub.status.busy": "2021-02-05T01:17:55.910054Z",
     "iopub.status.idle": "2021-02-05T01:17:55.919743Z",
     "shell.execute_reply": "2021-02-05T01:17:55.918971Z"
    },
    "papermill": {
     "duration": 0.03834,
     "end_time": "2021-02-05T01:17:55.919904",
     "exception": false,
     "start_time": "2021-02-05T01:17:55.881564",
     "status": "completed"
    },
    "tags": []
   },
   "outputs": [
    {
     "data": {
      "text/plain": [
       "director\n",
       "Raúl Campos, Jan Suter             18\n",
       "Marcus Raboy                       16\n",
       "Jay Karas                          14\n",
       "Cathy Garcia-Molina                13\n",
       "Martin Scorsese                    12\n",
       "                                   ..\n",
       "Jon Hurwitz, Hayden Schlossberg     1\n",
       "Jon Izen                            1\n",
       "Jon J. Whelan                       1\n",
       "Benjamin Cohen, Nicolas Cotto       1\n",
       "Kevin Reynolds                      1\n",
       "Name: show_id, Length: 4047, dtype: int64"
      ]
     },
     "execution_count": 21,
     "metadata": {},
     "output_type": "execute_result"
    }
   ],
   "source": [
    "#number of series directed by directors\n",
    "df.groupby('director')['show_id'].count().sort_values(ascending=False)"
   ]
  },
  {
   "cell_type": "code",
   "execution_count": 22,
   "metadata": {
    "execution": {
     "iopub.execute_input": "2021-02-05T01:17:55.966723Z",
     "iopub.status.busy": "2021-02-05T01:17:55.965990Z",
     "iopub.status.idle": "2021-02-05T01:17:55.969579Z",
     "shell.execute_reply": "2021-02-05T01:17:55.970033Z"
    },
    "papermill": {
     "duration": 0.028436,
     "end_time": "2021-02-05T01:17:55.970200",
     "exception": false,
     "start_time": "2021-02-05T01:17:55.941764",
     "status": "completed"
    },
    "tags": []
   },
   "outputs": [],
   "source": [
    "#director Raúl Campos, Jan Suter,Marcus Raboy and Jay Karas are among the most directed shows in netflix"
   ]
  }
 ],
 "metadata": {
  "kernelspec": {
   "display_name": "Python 3",
   "language": "python",
   "name": "python3"
  },
  "language_info": {
   "codemirror_mode": {
    "name": "ipython",
    "version": 3
   },
   "file_extension": ".py",
   "mimetype": "text/x-python",
   "name": "python",
   "nbconvert_exporter": "python",
   "pygments_lexer": "ipython3",
   "version": "3.7.9"
  },
  "papermill": {
   "default_parameters": {},
   "duration": 10.5748,
   "end_time": "2021-02-05T01:17:56.701807",
   "environment_variables": {},
   "exception": null,
   "input_path": "__notebook__.ipynb",
   "output_path": "__notebook__.ipynb",
   "parameters": {},
   "start_time": "2021-02-05T01:17:46.127007",
   "version": "2.2.2"
  }
 },
 "nbformat": 4,
 "nbformat_minor": 4
}
